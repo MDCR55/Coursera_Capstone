{
 "cells": [
  {
   "cell_type": "markdown",
   "metadata": {},
   "source": [
    "# Capstone Project (Week 1) - Mohammad Qara\n",
    "\n",
    "## Choosing best location to open a sport gym near schools of Jeddah, Saudi Arabia\n",
    "----\n",
    "\n",
    "### 1. Background\n",
    "My cleint wants to open a sport gym and he doesn't know where he sould open his gym, so based on our experience in data science we got hired to help him to decide what is the suitable place to open a gym in city of Jeddah, Saudi Arabia.\n",
    "\n",
    "### 2. Description of the problem\n",
    "The problem is to help business owner who are planning to open a gym in city of Jeddah, Saudi Arabia by giving group of location and then the job of this project is to decide whether this location has a need for a sport gym or not and will compare the other gyms nearby, and then rate the most suitable place to open for the business owner.\n",
    "\n",
    "### 3. Data\n",
    "We are going to import our data from Forsquare using Forsquare free API, so in we are going to call the api whith spicified argument like specifying the place as a sport gym and we are putting a specified raduis for highlighted places in Jeddah, and that places are going to be gathered and cleaned by the the data science team.\n",
    "\n",
    "### 4. Methodology\n",
    "to be edited when finishing the project\n",
    "\n",
    "### 5. Results\n",
    "to be edited when finishing the project\n",
    "\n",
    "### 6. Disscussion\n",
    "to be edited when finishing the project\n",
    "\n",
    "### 7. Conclusion\n",
    "to be edited when finishing the project\n",
    "\n",
    "----"
   ]
  },
  {
   "cell_type": "code",
   "execution_count": null,
   "metadata": {},
   "outputs": [],
   "source": []
  }
 ],
 "metadata": {
  "kernelspec": {
   "display_name": "Python 3",
   "language": "python",
   "name": "python3"
  },
  "language_info": {
   "codemirror_mode": {
    "name": "ipython",
    "version": 3
   },
   "file_extension": ".py",
   "mimetype": "text/x-python",
   "name": "python",
   "nbconvert_exporter": "python",
   "pygments_lexer": "ipython3",
   "version": "3.7.3"
  }
 },
 "nbformat": 4,
 "nbformat_minor": 2
}
