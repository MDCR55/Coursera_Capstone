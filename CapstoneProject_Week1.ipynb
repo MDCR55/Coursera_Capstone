{
 "cells": [
  {
   "cell_type": "markdown",
   "metadata": {},
   "source": [
    "# Capstone Project (Week 1) - Mohammad Qara\n",
    "\n",
    "Choosing best location to rent an ampartment near a sport gym and school a mall market in Jeddah, Saudi Arabia\n",
    "\n",
    "----"
   ]
  },
  {
   "cell_type": "markdown",
   "metadata": {},
   "source": [
    "### 1. Background\n",
    "My cleint wants to rent an apartment and he needs that apartment to be close from a sport gym, school and a shopping mall and he wants a location on the centert of the city of Jeddah and he doesn't know where he sould go where to the center of Jeddah, so based on our experience in data science we got hired to help him to decide what is the suitable place to rent that apartment."
   ]
  },
  {
   "cell_type": "markdown",
   "metadata": {},
   "source": [
    "### 2. Description of the problem\n",
    "The problem is to help my client who are planning to rent an apartment near a gym, school and a shopping mall in city of Jeddah, Saudi Arabia and he wants to be close to the center of Jeddah so based on that, we as a data scientist will fint the best place that mathes his criterias."
   ]
  },
  {
   "cell_type": "markdown",
   "metadata": {},
   "source": [
    "### 3. Data\n",
    "We are going to import our data from Forsquare using Forsquare free API, so in we are going to call the api whith spicified argument like specifying the place as a sport gym, school, mall and we are putting a specified raduis for highlighted places in Jeddah. And that places must be near the center of Jeddah, and that places are going to be gathered and cleaned by the the data science team."
   ]
  }
 ],
 "metadata": {
  "kernelspec": {
   "display_name": "Python 3",
   "language": "python",
   "name": "python3"
  },
  "language_info": {
   "codemirror_mode": {
    "name": "ipython",
    "version": 3
   },
   "file_extension": ".py",
   "mimetype": "text/x-python",
   "name": "python",
   "nbconvert_exporter": "python",
   "pygments_lexer": "ipython3",
   "version": "3.7.3"
  }
 },
 "nbformat": 4,
 "nbformat_minor": 2
}
